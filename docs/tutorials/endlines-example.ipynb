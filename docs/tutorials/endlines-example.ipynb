{
 "cells": [
  {
   "cell_type": "markdown",
   "metadata": {},
   "source": [
    "# End Lines"
   ]
  },
  {
   "cell_type": "code",
   "execution_count": 1,
   "id": "1eb198a9",
   "metadata": {},
   "outputs": [],
   "source": [
    "%load_ext autoreload\n",
    "%autoreload 2"
   ]
  },
  {
   "cell_type": "code",
   "execution_count": 2,
   "id": "f8bc9cea",
   "metadata": {},
   "outputs": [],
   "source": [
    "import spacy"
   ]
  },
  {
   "cell_type": "code",
   "execution_count": 3,
   "id": "eed78018",
   "metadata": {},
   "outputs": [],
   "source": [
    "from edsnlp.pipelines.core.endlines.endlinesmodel import EndLinesModel"
   ]
  },
  {
   "cell_type": "code",
   "execution_count": 4,
   "id": "8822241d",
   "metadata": {},
   "outputs": [],
   "source": [
    "import pandas as pd"
   ]
  },
  {
   "cell_type": "code",
   "execution_count": 5,
   "id": "66ef5a41",
   "metadata": {},
   "outputs": [],
   "source": [
    "from spacy import displacy"
   ]
  },
  {
   "cell_type": "markdown",
   "id": "eebfbd1a",
   "metadata": {},
   "source": [
    "## Train"
   ]
  },
  {
   "cell_type": "code",
   "execution_count": 6,
   "id": "b6994699",
   "metadata": {},
   "outputs": [],
   "source": [
    "nlp = spacy.blank(\"fr\")"
   ]
  },
  {
   "cell_type": "code",
   "execution_count": 41,
   "id": "c11635a6",
   "metadata": {},
   "outputs": [],
   "source": [
    "text1 =  r\"\"\"Le patient est arrivé hier soir.\n",
    "Il est accompagné par son fils\n",
    "\n",
    "ANTECEDENTS\n",
    "Il a fait une TS en 2010;\n",
    "Fumeur, il est arreté il a 5 mois\n",
    "Chirurgie de coeur en 2011\n",
    "CONCLUSION\n",
    "Il doit prendre\n",
    "le medicament indiqué 3 fois par jour. Revoir médecin\n",
    "dans 1 mois.\n",
    "DIAGNOSTIC :\n",
    "\n",
    "Antecedents Familiaux:\n",
    "- 1. Père avec diabete\n",
    "\n",
    "\"\"\""
   ]
  },
  {
   "cell_type": "code",
   "execution_count": 9,
   "id": "0971dea1",
   "metadata": {},
   "outputs": [],
   "source": [
    "text2 = \"\"\"J'aime le \\nfromage.../n\"\"\""
   ]
  },
  {
   "cell_type": "code",
   "execution_count": 10,
   "id": "1bd321fb",
   "metadata": {},
   "outputs": [],
   "source": [
    "text3 = '/nIntervention(s) - acte(s) réalisé(s) :/nParathyroïdectomie élective le [DATE]'"
   ]
  },
  {
   "cell_type": "code",
   "execution_count": 43,
   "id": "537631d6",
   "metadata": {},
   "outputs": [],
   "source": [
    "texts = [text1, text2, text3,]"
   ]
  },
  {
   "cell_type": "code",
   "execution_count": 44,
   "id": "30e7b369",
   "metadata": {},
   "outputs": [],
   "source": [
    "corpus =  nlp.pipe(texts)"
   ]
  },
  {
   "cell_type": "code",
   "execution_count": 45,
   "id": "171a81c7",
   "metadata": {},
   "outputs": [],
   "source": [
    "endlines = EndLinesModel(nlp = nlp)"
   ]
  },
  {
   "cell_type": "code",
   "execution_count": 46,
   "id": "b0734d86",
   "metadata": {
    "scrolled": true
   },
   "outputs": [
    {
     "data": {
      "text/html": [
       "<div>\n",
       "<style scoped>\n",
       "    .dataframe tbody tr th:only-of-type {\n",
       "        vertical-align: middle;\n",
       "    }\n",
       "\n",
       "    .dataframe tbody tr th {\n",
       "        vertical-align: top;\n",
       "    }\n",
       "\n",
       "    .dataframe thead th {\n",
       "        text-align: right;\n",
       "    }\n",
       "</style>\n",
       "<table border=\"1\" class=\"dataframe\">\n",
       "  <thead>\n",
       "    <tr style=\"text-align: right;\">\n",
       "      <th></th>\n",
       "      <th>original_token_index</th>\n",
       "      <th>A1</th>\n",
       "      <th>LOWER</th>\n",
       "      <th>SHAPE</th>\n",
       "      <th>IS_DIGIT</th>\n",
       "      <th>IS_SPACE</th>\n",
       "      <th>IS_UPPER</th>\n",
       "      <th>IS_PUNCT</th>\n",
       "      <th>LENGTH</th>\n",
       "      <th>DOC_ID</th>\n",
       "      <th>TEXT</th>\n",
       "      <th>SHAPE_</th>\n",
       "      <th>END_LINE</th>\n",
       "      <th>BLANK_LINE</th>\n",
       "      <th>A2</th>\n",
       "      <th>A3_</th>\n",
       "      <th>A3</th>\n",
       "      <th>A4</th>\n",
       "      <th>SPACE</th>\n",
       "      <th>SENTENCE_ID</th>\n",
       "      <th>l</th>\n",
       "      <th>mu</th>\n",
       "      <th>sigma</th>\n",
       "      <th>cv</th>\n",
       "      <th>l_norm</th>\n",
       "      <th>cv_bin</th>\n",
       "      <th>B2</th>\n",
       "      <th>l_norm_bin</th>\n",
       "      <th>B1</th>\n",
       "      <th>M1</th>\n",
       "      <th>M1_proba</th>\n",
       "      <th>M2</th>\n",
       "      <th>M2_proba</th>\n",
       "      <th>M1M2_lr</th>\n",
       "      <th>M1M2</th>\n",
       "      <th>PREDICTED_END_LINE</th>\n",
       "    </tr>\n",
       "  </thead>\n",
       "  <tbody>\n",
       "    <tr>\n",
       "      <th>6</th>\n",
       "      <td>6</td>\n",
       "      <td>12646065887601541794</td>\n",
       "      <td>12646065887601541794</td>\n",
       "      <td>12646065887601541794</td>\n",
       "      <td>False</td>\n",
       "      <td>False</td>\n",
       "      <td>False</td>\n",
       "      <td>True</td>\n",
       "      <td>1</td>\n",
       "      <td>0</td>\n",
       "      <td>.</td>\n",
       "      <td>.</td>\n",
       "      <td>True</td>\n",
       "      <td>False</td>\n",
       "      <td>4524258024941853120</td>\n",
       "      <td>STRONG_PUNCT</td>\n",
       "      <td>4</td>\n",
       "      <td>5</td>\n",
       "      <td>0</td>\n",
       "      <td>0</td>\n",
       "      <td>27.0</td>\n",
       "      <td>19.846154</td>\n",
       "      <td>9.813648</td>\n",
       "      <td>0.494486</td>\n",
       "      <td>0.728969</td>\n",
       "      <td>(0.448, 0.494]</td>\n",
       "      <td>9</td>\n",
       "      <td>(0.423, 0.78]</td>\n",
       "      <td>4</td>\n",
       "      <td>0</td>\n",
       "      <td>0.023822</td>\n",
       "      <td>0</td>\n",
       "      <td>0.078668</td>\n",
       "      <td>0.002084</td>\n",
       "      <td>0</td>\n",
       "      <td>True</td>\n",
       "    </tr>\n",
       "    <tr>\n",
       "      <th>12</th>\n",
       "      <td>13</td>\n",
       "      <td>12782933457956629079</td>\n",
       "      <td>12782933457956629079</td>\n",
       "      <td>13110060611322374290</td>\n",
       "      <td>False</td>\n",
       "      <td>False</td>\n",
       "      <td>False</td>\n",
       "      <td>False</td>\n",
       "      <td>4</td>\n",
       "      <td>0</td>\n",
       "      <td>fils</td>\n",
       "      <td>xxxx</td>\n",
       "      <td>True</td>\n",
       "      <td>True</td>\n",
       "      <td>16682281906836629955</td>\n",
       "      <td>LOWER</td>\n",
       "      <td>2</td>\n",
       "      <td>6</td>\n",
       "      <td>0</td>\n",
       "      <td>1</td>\n",
       "      <td>25.0</td>\n",
       "      <td>19.846154</td>\n",
       "      <td>9.813648</td>\n",
       "      <td>0.494486</td>\n",
       "      <td>0.525171</td>\n",
       "      <td>(0.448, 0.494]</td>\n",
       "      <td>9</td>\n",
       "      <td>(0.423, 0.78]</td>\n",
       "      <td>4</td>\n",
       "      <td>0</td>\n",
       "      <td>0.236119</td>\n",
       "      <td>0</td>\n",
       "      <td>0.078668</td>\n",
       "      <td>0.026393</td>\n",
       "      <td>0</td>\n",
       "      <td>True</td>\n",
       "    </tr>\n",
       "    <tr>\n",
       "      <th>13</th>\n",
       "      <td>15</td>\n",
       "      <td>16682281906836629955</td>\n",
       "      <td>1551165722391280020</td>\n",
       "      <td>13862804199789047564</td>\n",
       "      <td>False</td>\n",
       "      <td>False</td>\n",
       "      <td>True</td>\n",
       "      <td>False</td>\n",
       "      <td>11</td>\n",
       "      <td>0</td>\n",
       "      <td>ANTECEDENTS</td>\n",
       "      <td>XXXX</td>\n",
       "      <td>True</td>\n",
       "      <td>False</td>\n",
       "      <td>4524258024941853120</td>\n",
       "      <td>UPPER</td>\n",
       "      <td>6</td>\n",
       "      <td>5</td>\n",
       "      <td>0</td>\n",
       "      <td>2</td>\n",
       "      <td>11.0</td>\n",
       "      <td>19.846154</td>\n",
       "      <td>9.813648</td>\n",
       "      <td>0.494486</td>\n",
       "      <td>-0.901413</td>\n",
       "      <td>(0.448, 0.494]</td>\n",
       "      <td>9</td>\n",
       "      <td>(-1.007, -0.647]</td>\n",
       "      <td>0</td>\n",
       "      <td>0</td>\n",
       "      <td>0.026399</td>\n",
       "      <td>0</td>\n",
       "      <td>0.170073</td>\n",
       "      <td>0.005556</td>\n",
       "      <td>0</td>\n",
       "      <td>True</td>\n",
       "    </tr>\n",
       "    <tr>\n",
       "      <th>21</th>\n",
       "      <td>24</td>\n",
       "      <td>631425121691394544</td>\n",
       "      <td>631425121691394544</td>\n",
       "      <td>631425121691394544</td>\n",
       "      <td>False</td>\n",
       "      <td>False</td>\n",
       "      <td>False</td>\n",
       "      <td>True</td>\n",
       "      <td>1</td>\n",
       "      <td>0</td>\n",
       "      <td>;</td>\n",
       "      <td>;</td>\n",
       "      <td>True</td>\n",
       "      <td>False</td>\n",
       "      <td>5632068009892776650</td>\n",
       "      <td>STRONG_PUNCT</td>\n",
       "      <td>4</td>\n",
       "      <td>5</td>\n",
       "      <td>0</td>\n",
       "      <td>3</td>\n",
       "      <td>19.0</td>\n",
       "      <td>19.846154</td>\n",
       "      <td>9.813648</td>\n",
       "      <td>0.494486</td>\n",
       "      <td>-0.086222</td>\n",
       "      <td>(0.448, 0.494]</td>\n",
       "      <td>9</td>\n",
       "      <td>(-0.29, 0.0666]</td>\n",
       "      <td>2</td>\n",
       "      <td>0</td>\n",
       "      <td>0.023822</td>\n",
       "      <td>0</td>\n",
       "      <td>0.102211</td>\n",
       "      <td>0.002778</td>\n",
       "      <td>0</td>\n",
       "      <td>True</td>\n",
       "    </tr>\n",
       "    <tr>\n",
       "      <th>30</th>\n",
       "      <td>34</td>\n",
       "      <td>17316059834606091534</td>\n",
       "      <td>17316059834606091534</td>\n",
       "      <td>13110060611322374290</td>\n",
       "      <td>False</td>\n",
       "      <td>False</td>\n",
       "      <td>False</td>\n",
       "      <td>False</td>\n",
       "      <td>4</td>\n",
       "      <td>0</td>\n",
       "      <td>mois</td>\n",
       "      <td>xxxx</td>\n",
       "      <td>True</td>\n",
       "      <td>False</td>\n",
       "      <td>7447994293974641360</td>\n",
       "      <td>LOWER</td>\n",
       "      <td>2</td>\n",
       "      <td>5</td>\n",
       "      <td>0</td>\n",
       "      <td>4</td>\n",
       "      <td>26.0</td>\n",
       "      <td>19.846154</td>\n",
       "      <td>9.813648</td>\n",
       "      <td>0.494486</td>\n",
       "      <td>0.627070</td>\n",
       "      <td>(0.448, 0.494]</td>\n",
       "      <td>9</td>\n",
       "      <td>(0.423, 0.78]</td>\n",
       "      <td>4</td>\n",
       "      <td>0</td>\n",
       "      <td>0.291855</td>\n",
       "      <td>0</td>\n",
       "      <td>0.078668</td>\n",
       "      <td>0.035191</td>\n",
       "      <td>0</td>\n",
       "      <td>True</td>\n",
       "    </tr>\n",
       "  </tbody>\n",
       "</table>\n",
       "</div>"
      ],
      "text/plain": [
       "    original_token_index                    A1                 LOWER  \\\n",
       "6                      6  12646065887601541794  12646065887601541794   \n",
       "12                    13  12782933457956629079  12782933457956629079   \n",
       "13                    15  16682281906836629955   1551165722391280020   \n",
       "21                    24    631425121691394544    631425121691394544   \n",
       "30                    34  17316059834606091534  17316059834606091534   \n",
       "\n",
       "                   SHAPE  IS_DIGIT  IS_SPACE  IS_UPPER  IS_PUNCT  LENGTH  \\\n",
       "6   12646065887601541794     False     False     False      True       1   \n",
       "12  13110060611322374290     False     False     False     False       4   \n",
       "13  13862804199789047564     False     False      True     False      11   \n",
       "21    631425121691394544     False     False     False      True       1   \n",
       "30  13110060611322374290     False     False     False     False       4   \n",
       "\n",
       "    DOC_ID         TEXT SHAPE_  END_LINE  BLANK_LINE                    A2  \\\n",
       "6        0            .      .      True       False   4524258024941853120   \n",
       "12       0         fils   xxxx      True        True  16682281906836629955   \n",
       "13       0  ANTECEDENTS   XXXX      True       False   4524258024941853120   \n",
       "21       0            ;      ;      True       False   5632068009892776650   \n",
       "30       0         mois   xxxx      True       False   7447994293974641360   \n",
       "\n",
       "             A3_  A3 A4  SPACE  SENTENCE_ID     l         mu     sigma  \\\n",
       "6   STRONG_PUNCT   4  5      0            0  27.0  19.846154  9.813648   \n",
       "12         LOWER   2  6      0            1  25.0  19.846154  9.813648   \n",
       "13         UPPER   6  5      0            2  11.0  19.846154  9.813648   \n",
       "21  STRONG_PUNCT   4  5      0            3  19.0  19.846154  9.813648   \n",
       "30         LOWER   2  5      0            4  26.0  19.846154  9.813648   \n",
       "\n",
       "          cv    l_norm          cv_bin  B2        l_norm_bin  B1  M1  \\\n",
       "6   0.494486  0.728969  (0.448, 0.494]   9     (0.423, 0.78]   4   0   \n",
       "12  0.494486  0.525171  (0.448, 0.494]   9     (0.423, 0.78]   4   0   \n",
       "13  0.494486 -0.901413  (0.448, 0.494]   9  (-1.007, -0.647]   0   0   \n",
       "21  0.494486 -0.086222  (0.448, 0.494]   9   (-0.29, 0.0666]   2   0   \n",
       "30  0.494486  0.627070  (0.448, 0.494]   9     (0.423, 0.78]   4   0   \n",
       "\n",
       "    M1_proba  M2  M2_proba   M1M2_lr  M1M2  PREDICTED_END_LINE  \n",
       "6   0.023822   0  0.078668  0.002084     0                True  \n",
       "12  0.236119   0  0.078668  0.026393     0                True  \n",
       "13  0.026399   0  0.170073  0.005556     0                True  \n",
       "21  0.023822   0  0.102211  0.002778     0                True  \n",
       "30  0.291855   0  0.078668  0.035191     0                True  "
      ]
     },
     "execution_count": 46,
     "metadata": {},
     "output_type": "execute_result"
    }
   ],
   "source": [
    "df = endlines.fit_and_predict(corpus)\n",
    "df.head()"
   ]
  },
  {
   "cell_type": "code",
   "execution_count": 47,
   "id": "99bb819c",
   "metadata": {},
   "outputs": [
    {
     "name": "stdout",
     "output_type": "stream",
     "text": [
      "|    |   original_token_index |                   A1 |                LOWER |                SHAPE | IS_DIGIT   | IS_SPACE   | IS_UPPER   | IS_PUNCT   |   LENGTH |   DOC_ID | TEXT        | SHAPE_   | END_LINE   | BLANK_LINE   |                   A2 | A3_          |   A3 |   A4 |   SPACE |   SENTENCE_ID |   l |      mu |   sigma |       cv |     l_norm | cv_bin         |   B2 | l_norm_bin       |   B1 |   M1 |   M1_proba |   M2 |   M2_proba |    M1M2_lr |   M1M2 | PREDICTED_END_LINE   |\n",
      "|---:|-----------------------:|---------------------:|---------------------:|---------------------:|:-----------|:-----------|:-----------|:-----------|---------:|---------:|:------------|:---------|:-----------|:-------------|---------------------:|:-------------|-----:|-----:|--------:|--------------:|----:|--------:|--------:|---------:|-----------:|:---------------|-----:|:-----------------|-----:|-----:|-----------:|-----:|-----------:|-----------:|-------:|:---------------------|\n",
      "|  6 |                      6 | 12646065887601541794 | 12646065887601541794 | 12646065887601541794 | False      | False      | False      | True       |        1 |        0 | .           | .        | True       | False        |  4524258024941853120 | STRONG_PUNCT |    4 |    5 |       0 |             0 |  27 | 19.8462 | 9.81365 | 0.494486 |  0.728969  | (0.448, 0.494] |    9 | (0.423, 0.78]    |    4 |    0 |  0.0238217 |    0 |  0.0786683 | 0.00208366 |      0 | True                 |\n",
      "| 12 |                     13 | 12782933457956629079 | 12782933457956629079 | 13110060611322374290 | False      | False      | False      | False      |        4 |        0 | fils        | xxxx     | True       | True         | 16682281906836629955 | LOWER        |    2 |    6 |       0 |             1 |  25 | 19.8462 | 9.81365 | 0.494486 |  0.525171  | (0.448, 0.494] |    9 | (0.423, 0.78]    |    4 |    0 |  0.236119  |    0 |  0.0786683 | 0.026393   |      0 | True                 |\n",
      "| 13 |                     15 | 16682281906836629955 |  1551165722391280020 | 13862804199789047564 | False      | False      | True       | False      |       11 |        0 | ANTECEDENTS | XXXX     | True       | False        |  4524258024941853120 | UPPER        |    6 |    5 |       0 |             2 |  11 | 19.8462 | 9.81365 | 0.494486 | -0.901413  | (0.448, 0.494] |    9 | (-1.007, -0.647] |    0 |    0 |  0.0263987 |    0 |  0.170073  | 0.00555643 |      0 | True                 |\n",
      "| 21 |                     24 |   631425121691394544 |   631425121691394544 |   631425121691394544 | False      | False      | False      | True       |        1 |        0 | ;           | ;        | True       | False        |  5632068009892776650 | STRONG_PUNCT |    4 |    5 |       0 |             3 |  19 | 19.8462 | 9.81365 | 0.494486 | -0.0862221 | (0.448, 0.494] |    9 | (-0.29, 0.0666]  |    2 |    0 |  0.0238217 |    0 |  0.102211  | 0.00277821 |      0 | True                 |\n",
      "| 30 |                     34 | 17316059834606091534 | 17316059834606091534 | 13110060611322374290 | False      | False      | False      | False      |        4 |        0 | mois        | xxxx     | True       | False        |  7447994293974641360 | LOWER        |    2 |    5 |       0 |             4 |  26 | 19.8462 | 9.81365 | 0.494486 |  0.62707   | (0.448, 0.494] |    9 | (0.423, 0.78]    |    4 |    0 |  0.291855  |    0 |  0.0786683 | 0.0351907  |      0 | True                 |\n"
     ]
    }
   ],
   "source": [
    "print(df.head().to_markdown())"
   ]
  },
  {
   "cell_type": "code",
   "execution_count": 14,
   "id": "e2124141",
   "metadata": {},
   "outputs": [],
   "source": [
    "pd.set_option(\"max_columns\",None)"
   ]
  },
  {
   "cell_type": "code",
   "execution_count": 19,
   "id": "7fba55ff",
   "metadata": {},
   "outputs": [],
   "source": [
    "# Save model\n",
    "PATH= \"/path_to_model\"\n",
    "endlines.save(PATH)"
   ]
  },
  {
   "cell_type": "markdown",
   "id": "a9b47a92",
   "metadata": {},
   "source": [
    "## Predict"
   ]
  },
  {
   "cell_type": "code",
   "execution_count": 20,
   "id": "d6591bb7",
   "metadata": {
    "scrolled": false
   },
   "outputs": [
    {
     "data": {
      "text/html": [
       "<div>\n",
       "<style scoped>\n",
       "    .dataframe tbody tr th:only-of-type {\n",
       "        vertical-align: middle;\n",
       "    }\n",
       "\n",
       "    .dataframe tbody tr th {\n",
       "        vertical-align: top;\n",
       "    }\n",
       "\n",
       "    .dataframe thead th {\n",
       "        text-align: right;\n",
       "    }\n",
       "</style>\n",
       "<table border=\"1\" class=\"dataframe\">\n",
       "  <thead>\n",
       "    <tr style=\"text-align: right;\">\n",
       "      <th></th>\n",
       "      <th>A1</th>\n",
       "      <th>A2</th>\n",
       "      <th>A3</th>\n",
       "      <th>A4</th>\n",
       "      <th>B1</th>\n",
       "      <th>B2</th>\n",
       "      <th>BLANK_LINE</th>\n",
       "      <th>_A3</th>\n",
       "      <th>_A4</th>\n",
       "      <th>_B1</th>\n",
       "      <th>_B2</th>\n",
       "      <th>M1</th>\n",
       "      <th>M1_proba</th>\n",
       "      <th>M2</th>\n",
       "      <th>M2_proba</th>\n",
       "      <th>M1M2_lr</th>\n",
       "      <th>M1M2</th>\n",
       "      <th>PREDICTED_END_LINE</th>\n",
       "    </tr>\n",
       "  </thead>\n",
       "  <tbody>\n",
       "    <tr>\n",
       "      <th>0</th>\n",
       "      <td>12646014</td>\n",
       "      <td>12646065887601541794</td>\n",
       "      <td>UPPER</td>\n",
       "      <td>DIGIT</td>\n",
       "      <td>0.5</td>\n",
       "      <td>0.0</td>\n",
       "      <td>False</td>\n",
       "      <td>6</td>\n",
       "      <td>0</td>\n",
       "      <td>4</td>\n",
       "      <td>0</td>\n",
       "      <td>1</td>\n",
       "      <td>0.957371</td>\n",
       "      <td>0</td>\n",
       "      <td>0.135352</td>\n",
       "      <td>3.515641</td>\n",
       "      <td>1</td>\n",
       "      <td>False</td>\n",
       "    </tr>\n",
       "    <tr>\n",
       "      <th>1</th>\n",
       "      <td>4191891561709484510</td>\n",
       "      <td>4191891561709484510</td>\n",
       "      <td>DIGIT</td>\n",
       "      <td>ENUMERATION</td>\n",
       "      <td>0.7</td>\n",
       "      <td>0.2</td>\n",
       "      <td>True</td>\n",
       "      <td>0</td>\n",
       "      <td>1</td>\n",
       "      <td>4</td>\n",
       "      <td>3</td>\n",
       "      <td>1</td>\n",
       "      <td>0.870074</td>\n",
       "      <td>0</td>\n",
       "      <td>0.127479</td>\n",
       "      <td>0.978414</td>\n",
       "      <td>0</td>\n",
       "      <td>True</td>\n",
       "    </tr>\n",
       "    <tr>\n",
       "      <th>2</th>\n",
       "      <td>1668228190683662995</td>\n",
       "      <td>1668228190683662995</td>\n",
       "      <td>sdf</td>\n",
       "      <td>STRONG_PUNCT</td>\n",
       "      <td>10.2</td>\n",
       "      <td>-10.2</td>\n",
       "      <td>False</td>\n",
       "      <td>7</td>\n",
       "      <td>4</td>\n",
       "      <td>9</td>\n",
       "      <td>0</td>\n",
       "      <td>1</td>\n",
       "      <td>0.941786</td>\n",
       "      <td>1</td>\n",
       "      <td>0.556013</td>\n",
       "      <td>20.260080</td>\n",
       "      <td>1</td>\n",
       "      <td>False</td>\n",
       "    </tr>\n",
       "  </tbody>\n",
       "</table>\n",
       "</div>"
      ],
      "text/plain": [
       "                    A1                    A2     A3            A4    B1    B2  \\\n",
       "0             12646014  12646065887601541794  UPPER         DIGIT   0.5   0.0   \n",
       "1  4191891561709484510   4191891561709484510  DIGIT   ENUMERATION   0.7   0.2   \n",
       "2  1668228190683662995   1668228190683662995    sdf  STRONG_PUNCT  10.2 -10.2   \n",
       "\n",
       "   BLANK_LINE  _A3  _A4  _B1  _B2  M1  M1_proba  M2  M2_proba    M1M2_lr  \\\n",
       "0       False    6    0    4    0   1  0.957371   0  0.135352   3.515641   \n",
       "1        True    0    1    4    3   1  0.870074   0  0.127479   0.978414   \n",
       "2       False    7    4    9    0   1  0.941786   1  0.556013  20.260080   \n",
       "\n",
       "   M1M2  PREDICTED_END_LINE  \n",
       "0     1               False  \n",
       "1     0                True  \n",
       "2     1               False  "
      ]
     },
     "execution_count": 20,
     "metadata": {},
     "output_type": "execute_result"
    }
   ],
   "source": [
    "df2 = pd.DataFrame({\"A1\":[12646014,4191891561709484510 , 1668228190683662995],\n",
    "                   \"A2\":[12646065887601541794,4191891561709484510 , 1668228190683662995],\n",
    "                   \"A3\": [\"UPPER\",\"DIGIT\",\"sdf\"],\n",
    "                   \"A4\": [\"DIGIT\",\"ENUMERATION\",\"STRONG_PUNCT\"],\n",
    "                   \"B1\": [.5,.7,10.2],\n",
    "                   \"B2\": [.0,.2,-10.2],\n",
    "                  \"BLANK_LINE\":[False,True,False]})\n",
    "df2 = endlines.predict(df2)\n",
    "df2"
   ]
  },
  {
   "cell_type": "markdown",
   "id": "a0fd94dc",
   "metadata": {},
   "source": [
    "## Set spans in training data (for viz)"
   ]
  },
  {
   "cell_type": "code",
   "execution_count": 21,
   "id": "934be9e8",
   "metadata": {},
   "outputs": [],
   "source": [
    "set_spans = endlines.set_spans"
   ]
  },
  {
   "cell_type": "code",
   "execution_count": 22,
   "id": "23aaa438",
   "metadata": {},
   "outputs": [],
   "source": [
    "set_spans(corpus, df) "
   ]
  },
  {
   "cell_type": "code",
   "execution_count": 23,
   "id": "a88be6df",
   "metadata": {},
   "outputs": [
    {
     "data": {
      "text/html": [
       "<div>\n",
       "<style scoped>\n",
       "    .dataframe tbody tr th:only-of-type {\n",
       "        vertical-align: middle;\n",
       "    }\n",
       "\n",
       "    .dataframe tbody tr th {\n",
       "        vertical-align: top;\n",
       "    }\n",
       "\n",
       "    .dataframe thead th {\n",
       "        text-align: right;\n",
       "    }\n",
       "</style>\n",
       "<table border=\"1\" class=\"dataframe\">\n",
       "  <thead>\n",
       "    <tr style=\"text-align: right;\">\n",
       "      <th></th>\n",
       "      <th>original_token_index</th>\n",
       "      <th>A1</th>\n",
       "      <th>LOWER</th>\n",
       "      <th>SHAPE</th>\n",
       "      <th>IS_DIGIT</th>\n",
       "      <th>IS_SPACE</th>\n",
       "      <th>IS_UPPER</th>\n",
       "      <th>IS_PUNCT</th>\n",
       "      <th>LENGTH</th>\n",
       "      <th>DOC_ID</th>\n",
       "      <th>TEXT</th>\n",
       "      <th>SHAPE_</th>\n",
       "      <th>END_LINE</th>\n",
       "      <th>BLANK_LINE</th>\n",
       "      <th>A2</th>\n",
       "      <th>A3_</th>\n",
       "      <th>A3</th>\n",
       "      <th>A4</th>\n",
       "      <th>SPACE</th>\n",
       "      <th>SENTENCE_ID</th>\n",
       "      <th>l</th>\n",
       "      <th>mu</th>\n",
       "      <th>sigma</th>\n",
       "      <th>cv</th>\n",
       "      <th>l_norm</th>\n",
       "      <th>cv_bin</th>\n",
       "      <th>B2</th>\n",
       "      <th>l_norm_bin</th>\n",
       "      <th>B1</th>\n",
       "      <th>M1</th>\n",
       "      <th>M1_proba</th>\n",
       "      <th>M2</th>\n",
       "      <th>M2_proba</th>\n",
       "      <th>M1M2_lr</th>\n",
       "      <th>M1M2</th>\n",
       "      <th>PREDICTED_END_LINE</th>\n",
       "    </tr>\n",
       "  </thead>\n",
       "  <tbody>\n",
       "    <tr>\n",
       "      <th>67</th>\n",
       "      <td>2</td>\n",
       "      <td>13361843836202591494</td>\n",
       "      <td>13361843836202591494</td>\n",
       "      <td>4370460163704169311</td>\n",
       "      <td>False</td>\n",
       "      <td>False</td>\n",
       "      <td>False</td>\n",
       "      <td>False</td>\n",
       "      <td>2</td>\n",
       "      <td>1</td>\n",
       "      <td>le</td>\n",
       "      <td>xx</td>\n",
       "      <td>True</td>\n",
       "      <td>False</td>\n",
       "      <td>13467746054568929789</td>\n",
       "      <td>LOWER</td>\n",
       "      <td>2</td>\n",
       "      <td>2</td>\n",
       "      <td>0</td>\n",
       "      <td>0</td>\n",
       "      <td>8.0</td>\n",
       "      <td>9.0</td>\n",
       "      <td>1.414214</td>\n",
       "      <td>0.157135</td>\n",
       "      <td>-0.707107</td>\n",
       "      <td>(0.122, 0.169]</td>\n",
       "      <td>2</td>\n",
       "      <td>(-1.007, -0.647]</td>\n",
       "      <td>0</td>\n",
       "      <td>1</td>\n",
       "      <td>0.926865</td>\n",
       "      <td>1</td>\n",
       "      <td>0.600445</td>\n",
       "      <td>19.045213</td>\n",
       "      <td>1</td>\n",
       "      <td>False</td>\n",
       "    </tr>\n",
       "  </tbody>\n",
       "</table>\n",
       "</div>"
      ],
      "text/plain": [
       "    original_token_index                    A1                 LOWER  \\\n",
       "67                     2  13361843836202591494  13361843836202591494   \n",
       "\n",
       "                  SHAPE  IS_DIGIT  IS_SPACE  IS_UPPER  IS_PUNCT  LENGTH  \\\n",
       "67  4370460163704169311     False     False     False     False       2   \n",
       "\n",
       "    DOC_ID TEXT SHAPE_  END_LINE  BLANK_LINE                    A2    A3_  A3  \\\n",
       "67       1   le     xx      True       False  13467746054568929789  LOWER   2   \n",
       "\n",
       "   A4  SPACE  SENTENCE_ID    l   mu     sigma        cv    l_norm  \\\n",
       "67  2      0            0  8.0  9.0  1.414214  0.157135 -0.707107   \n",
       "\n",
       "            cv_bin  B2        l_norm_bin  B1  M1  M1_proba  M2  M2_proba  \\\n",
       "67  (0.122, 0.169]   2  (-1.007, -0.647]   0   1  0.926865   1  0.600445   \n",
       "\n",
       "      M1M2_lr  M1M2  PREDICTED_END_LINE  \n",
       "67  19.045213     1               False  "
      ]
     },
     "execution_count": 23,
     "metadata": {},
     "output_type": "execute_result"
    }
   ],
   "source": [
    "df.loc[df.DOC_ID==1]"
   ]
  },
  {
   "cell_type": "code",
   "execution_count": 24,
   "id": "e1d89d09",
   "metadata": {},
   "outputs": [],
   "source": [
    "doc_exemple = corpus[1]"
   ]
  },
  {
   "cell_type": "code",
   "execution_count": 25,
   "metadata": {},
   "outputs": [
    {
     "data": {
      "text/plain": [
       "{'new_lines': [le]}"
      ]
     },
     "execution_count": 25,
     "metadata": {},
     "output_type": "execute_result"
    }
   ],
   "source": [
    "doc_exemple.spans"
   ]
  },
  {
   "cell_type": "code",
   "execution_count": 26,
   "id": "69306f81",
   "metadata": {},
   "outputs": [],
   "source": [
    "doc_exemple.ents = tuple(doc_exemple.spans['new_lines'])"
   ]
  },
  {
   "cell_type": "code",
   "execution_count": 27,
   "id": "44be6ac1",
   "metadata": {},
   "outputs": [
    {
     "data": {
      "text/html": [
       "<span class=\"tex2jax_ignore\"><div class=\"entities\" style=\"line-height: 2.5; direction: ltr\">J'aime \n",
       "<mark class=\"entity\" style=\"background: red; padding: 0.45em 0.6em; margin: 0 0.25em; line-height: 1; border-radius: 0.35em;\">\n",
       "    le\n",
       "    <span style=\"font-size: 0.8em; font-weight: bold; line-height: 1; border-radius: 0.35em; vertical-align: middle; margin-left: 0.5rem\">space</span>\n",
       "</mark>\n",
       " </br>fromage...</br></div></span>"
      ],
      "text/plain": [
       "<IPython.core.display.HTML object>"
      ]
     },
     "metadata": {},
     "output_type": "display_data"
    }
   ],
   "source": [
    "displacy.render(doc_exemple, style=\"ent\", options={\"colors\":{\"end_line\":\"green\",\"space\":\"red\"}})"
   ]
  },
  {
   "cell_type": "markdown",
   "id": "8e11f6e2",
   "metadata": {},
   "source": [
    "## Pipe spacy (inference)"
   ]
  },
  {
   "cell_type": "code",
   "execution_count": 28,
   "id": "87e253df",
   "metadata": {},
   "outputs": [],
   "source": [
    "import edsnlp.components"
   ]
  },
  {
   "cell_type": "code",
   "execution_count": 29,
   "id": "69786143",
   "metadata": {},
   "outputs": [],
   "source": [
    "nlp = spacy.blank(\"fr\")"
   ]
  },
  {
   "cell_type": "code",
   "execution_count": 31,
   "id": "9723981e",
   "metadata": {},
   "outputs": [
    {
     "data": {
      "text/plain": [
       "<edsnlp.pipelines.core.endlines.endlines.EndLines at 0x16fac26f588>"
      ]
     },
     "execution_count": 31,
     "metadata": {},
     "output_type": "execute_result"
    }
   ],
   "source": [
    "nlp.add_pipe(\"eds.endlines\", config=dict(model_path = PATH))"
   ]
  },
  {
   "cell_type": "code",
   "execution_count": 32,
   "id": "29e00443",
   "metadata": {},
   "outputs": [],
   "source": [
    "docs2 = list(nlp.pipe([text1,text2,text3]))"
   ]
  },
  {
   "cell_type": "code",
   "execution_count": 33,
   "id": "75452160",
   "metadata": {},
   "outputs": [],
   "source": [
    "doc_exemple = docs2[1]"
   ]
  },
  {
   "cell_type": "code",
   "execution_count": 34,
   "id": "3e589b88",
   "metadata": {},
   "outputs": [
    {
     "data": {
      "text/plain": [
       "J'aime le \n",
       "fromage..."
      ]
     },
     "execution_count": 34,
     "metadata": {},
     "output_type": "execute_result"
    }
   ],
   "source": [
    "doc_exemple"
   ]
  },
  {
   "cell_type": "code",
   "execution_count": 54,
   "id": "ddadf343",
   "metadata": {},
   "outputs": [
    {
     "data": {
      "text/plain": [
       "'space'"
      ]
     },
     "execution_count": 54,
     "metadata": {},
     "output_type": "execute_result"
    }
   ],
   "source": [
    "doc_exemple.spans[\"new_lines\"][0].label_"
   ]
  },
  {
   "cell_type": "code",
   "execution_count": 35,
   "id": "ee614a62",
   "metadata": {},
   "outputs": [],
   "source": [
    "from edsnlp.utils.filter import filter_spans\n",
    "spaces = tuple(s for s in doc_exemple.spans['new_lines'] if s.label_==\"space\")\n",
    "ents = doc_exemple.ents + spaces\n",
    "ents_f = filter_spans(ents)\n",
    "doc_exemple.ents = ents_f"
   ]
  },
  {
   "cell_type": "code",
   "execution_count": 36,
   "id": "b23c1cdd",
   "metadata": {},
   "outputs": [
    {
     "data": {
      "text/html": [
       "<span class=\"tex2jax_ignore\"><div class=\"entities\" style=\"line-height: 2.5; direction: ltr\">J'aime le \n",
       "<mark class=\"entity\" style=\"background: red; padding: 0.45em 0.6em; margin: 0 0.25em; line-height: 1; border-radius: 0.35em;\">\n",
       "    \n",
       "\n",
       "    <span style=\"font-size: 0.8em; font-weight: bold; line-height: 1; border-radius: 0.35em; vertical-align: middle; margin-left: 0.5rem\">space</span>\n",
       "</mark>\n",
       "fromage...</br></div></span>"
      ],
      "text/plain": [
       "<IPython.core.display.HTML object>"
      ]
     },
     "metadata": {},
     "output_type": "display_data"
    }
   ],
   "source": [
    "displacy.render(doc_exemple, style=\"ent\", options={\"colors\":{\"space\":\"red\"}})"
   ]
  },
  {
   "cell_type": "code",
   "execution_count": null,
   "id": "b9797828",
   "metadata": {},
   "outputs": [],
   "source": []
  }
 ],
 "metadata": {
  "interpreter": {
   "hash": "b5666523f336a393745329c3e4562c2607af278433eab350a066d30a30e97323"
  },
  "kernelspec": {
   "display_name": "Python 3.7.1 64-bit ('env_debug': conda)",
   "name": "python3"
  },
  "language_info": {
   "codemirror_mode": {
    "name": "ipython",
    "version": 3
   },
   "file_extension": ".py",
   "mimetype": "text/x-python",
   "name": "python",
   "nbconvert_exporter": "python",
   "pygments_lexer": "ipython3",
   "version": "3.7.1"
  }
 },
 "nbformat": 4,
 "nbformat_minor": 5
}
