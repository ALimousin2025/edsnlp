{
 "cells": [
  {
   "cell_type": "markdown",
   "id": "05f18734",
   "metadata": {},
   "source": [
    "# Working with Spark"
   ]
  },
  {
   "cell_type": "markdown",
   "id": "a7fcf68f",
   "metadata": {},
   "source": [
    "AP-HP's clinical data warehouse uses Spark to distribute computations on a cluster. This example notebook shows how one can leverage PySpark to apply an NLP pipeline on a Spark DataFrame."
   ]
  },
  {
   "cell_type": "markdown",
   "id": "2f702642",
   "metadata": {},
   "source": [
    "The Spark \"connector\" simply wraps the pipeline into a UDF and distributes it on a cluster."
   ]
  },
  {
   "cell_type": "markdown",
   "id": "46a51c57",
   "metadata": {},
   "source": [
    "### Getting clinical notes\n",
    "\n",
    "This section supposes you have an PySpark `sql` object ready to use.\n",
    "If not, it can be created e.g. via\n",
    "\n",
    "```python\n",
    "from pyspark.sql.session import SparkSession\n",
    "\n",
    "spark = SparkSession.builder.getOrCreate()\n",
    "sql = spark.sql\n",
    "```\n",
    "\n",
    "Now let us query some notes"
   ]
  },
  {
   "cell_type": "code",
   "execution_count": 2,
   "id": "be62f34a",
   "metadata": {},
   "outputs": [],
   "source": [
    "DB_NAME = 'edsomop_prod_a'\n",
    "TABLE_NAME = 'note'\n",
    "N = 1000\n",
    "\n",
    "notes = sql(\n",
    "    f\"\"\"\n",
    "    SELECT\n",
    "        person_id,\n",
    "        visit_occurrence_id,\n",
    "        note_id,\n",
    "        note_text\n",
    "    FROM\n",
    "        {DB_NAME}.{TABLE_NAME}\n",
    "    LIMIT {N}\"\"\"\n",
    ")"
   ]
  },
  {
   "cell_type": "markdown",
   "id": "74cbfcd9",
   "metadata": {},
   "source": [
    "### Defining an NLP pipeline\n",
    "\n",
    "Now, as you would do normally using EDS-NLP, let us define the pipeline whe want to apply on out notes.  \n",
    "In this example, we will construct a *dummy* `matcher`:"
   ]
  },
  {
   "cell_type": "code",
   "execution_count": 4,
   "id": "3ff93eac",
   "metadata": {
    "slideshow": {
     "slide_type": "slide"
    }
   },
   "outputs": [],
   "source": [
    "# Importating Spacy and all EDS-NLP pipes\n",
    "import spacy\n",
    "import edsnlp.components"
   ]
  },
  {
   "cell_type": "code",
   "execution_count": 5,
   "id": "5849f35a",
   "metadata": {},
   "outputs": [
    {
     "data": {
      "text/plain": [
       "<edsnlp.pipelines.rspeech.rspeech.ReportedSpeech at 0x7f9f98058d90>"
      ]
     },
     "execution_count": 5,
     "metadata": {},
     "output_type": "execute_result"
    }
   ],
   "source": [
    "# Creates the Spacy instance\n",
    "nlp = spacy.blank('fr')\n",
    "\n",
    "# Normalisation of accents, case and other special characters\n",
    "nlp.add_pipe('normalizer')\n",
    "# Detecting end of lines\n",
    "nlp.add_pipe('sentences')\n",
    "\n",
    "# Extraction of named entities\n",
    "nlp.add_pipe(\n",
    "    'matcher',\n",
    "    config=dict(\n",
    "        terms=dict(respiratoire=[\n",
    "            'difficultes respiratoires',\n",
    "            'asthmatique',\n",
    "            'toux',\n",
    "        ]),\n",
    "        regex=dict(\n",
    "            covid=r'(?i)(?:infection\\sau\\s)?(covid[\\s\\-]?19|corona[\\s\\-]?virus)',\n",
    "            traitement=r'(?i)traitements?|medicaments?',\n",
    "            respiratoire=\"respiratoires\",\n",
    "        ),\n",
    "        attr='NORM',\n",
    "    ),\n",
    ")\n",
    "\n",
    "# Qualification of matched entities\n",
    "nlp.add_pipe('negation')\n",
    "nlp.add_pipe('hypothesis')\n",
    "nlp.add_pipe('family')\n",
    "nlp.add_pipe('rspeech')"
   ]
  },
  {
   "cell_type": "markdown",
   "id": "be0f1308",
   "metadata": {},
   "source": [
    "### Applying the pipeline\n",
    "\n",
    "As shown above, we have defined a matcher which extracts entities, and added some qualifiers that add attributes to those entities.  \n",
    "Let us mention the used qualifiers here:"
   ]
  },
  {
   "cell_type": "code",
   "execution_count": 6,
   "id": "f88f1d7b",
   "metadata": {},
   "outputs": [],
   "source": [
    "qualifiers = ['negated', 'hypothesis', 'reported_speech', 'family']"
   ]
  },
  {
   "cell_type": "markdown",
   "id": "6a332fd9",
   "metadata": {},
   "source": [
    "Finally, to apply the pipeline to the PySpark DataFrame, two options are available"
   ]
  },
  {
   "cell_type": "code",
   "execution_count": 17,
   "id": "1326c0f0",
   "metadata": {},
   "outputs": [],
   "source": [
    "import pyspark.sql.functions as F\n",
    "from edsnlp.connectors.spark import udf_factory, apply_nlp"
   ]
  },
  {
   "cell_type": "markdown",
   "id": "522679ea",
   "metadata": {},
   "source": [
    "#### 1. The `udf_factory` function\n",
    "\n",
    "This function allows us to define a matcher:"
   ]
  },
  {
   "cell_type": "code",
   "execution_count": 14,
   "id": "8777fa36",
   "metadata": {},
   "outputs": [],
   "source": [
    "matcher = udf_factory(\n",
    "    nlp=nlp,\n",
    "    qualifiers=qualifiers,\n",
    ")"
   ]
  },
  {
   "cell_type": "markdown",
   "id": "b6079275",
   "metadata": {},
   "source": [
    "Now what's left to do is to apply this *matcher* on the DataFrame"
   ]
  },
  {
   "cell_type": "code",
   "execution_count": 18,
   "id": "69e5504f",
   "metadata": {},
   "outputs": [],
   "source": [
    "# Apply the matcher\n",
    "note_nlp = notes.withColumn(\"matches\", matcher(notes.note_text))\n",
    "\n",
    "# Formatting the output into separate columns\n",
    "note_nlp = note_nlp.withColumn(\"matches\", F.explode(note_nlp.matches))\n",
    "\n",
    "# Selection the columns of interest\n",
    "note_nlp = note_nlp.select(\"note_id\", \"matches.*\")"
   ]
  },
  {
   "cell_type": "markdown",
   "id": "d92331be",
   "metadata": {},
   "source": [
    "That's it, you now have a DataFrame containing one row per extracted entity, with the following columns:"
   ]
  },
  {
   "cell_type": "code",
   "execution_count": 19,
   "id": "af70d3b1",
   "metadata": {},
   "outputs": [
    {
     "data": {
      "text/plain": [
       "['note_id',\n",
       " 'lexical_variant',\n",
       " 'label',\n",
       " 'discarded',\n",
       " 'start',\n",
       " 'end',\n",
       " 'negated',\n",
       " 'hypothesis',\n",
       " 'reported_speech',\n",
       " 'family']"
      ]
     },
     "execution_count": 19,
     "metadata": {},
     "output_type": "execute_result"
    }
   ],
   "source": [
    "note_nlp.columns"
   ]
  },
  {
   "cell_type": "markdown",
   "id": "6d644671",
   "metadata": {},
   "source": [
    "#### 2. The `apply_nlp` function"
   ]
  },
  {
   "cell_type": "code",
   "execution_count": 21,
   "id": "1d0887ad",
   "metadata": {},
   "outputs": [],
   "source": [
    "note_nlp = apply_nlp(notes, nlp)"
   ]
  },
  {
   "cell_type": "code",
   "execution_count": 22,
   "id": "5a66c388",
   "metadata": {},
   "outputs": [
    {
     "data": {
      "text/plain": [
       "['note_nlp_id',\n",
       " 'note_id',\n",
       " 'lexical_variant',\n",
       " 'label',\n",
       " 'discarded',\n",
       " 'start',\n",
       " 'end',\n",
       " 'note_nlp_datetime']"
      ]
     },
     "execution_count": 22,
     "metadata": {},
     "output_type": "execute_result"
    }
   ],
   "source": [
    "note_nlp.columns"
   ]
  },
  {
   "cell_type": "code",
   "execution_count": null,
   "id": "3e0f5e13",
   "metadata": {},
   "outputs": [],
   "source": []
  }
 ],
 "metadata": {
  "interpreter": {
   "hash": "b4c4e68f981817c04f42d58b62415293cfb1267b1fe1f33d5117402e7185407b"
  },
  "kernelspec": {
   "display_name": "[2.4.3] Py3",
   "language": "python",
   "name": "python3"
  },
  "language_info": {
   "codemirror_mode": {
    "name": "ipython",
    "version": 3
   },
   "file_extension": ".py",
   "mimetype": "text/x-python",
   "name": "python",
   "nbconvert_exporter": "python",
   "pygments_lexer": "ipython3",
   "version": "3.9.5"
  }
 },
 "nbformat": 4,
 "nbformat_minor": 5
}
