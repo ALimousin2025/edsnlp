{
 "cells": [
  {
   "cell_type": "markdown",
   "id": "33a49e31",
   "metadata": {},
   "source": [
    "# Reason"
   ]
  },
  {
   "cell_type": "code",
   "execution_count": 1,
   "id": "698cd1f7",
   "metadata": {},
   "outputs": [
    {
     "name": "stderr",
     "output_type": "stream",
     "text": [
      "2021-10-28 11:26:07.170 | WARNING  | edsnlp.pipelines.sections.sections:__init__:73 - The component Sections is still in Beta. Use at your own risks.\n"
     ]
    }
   ],
   "source": [
    "import spacy\n",
    "\n",
    "import edsnlp.components\n",
    "\n",
    "text = \"\"\"COMPTE RENDU D'HOSPITALISATION du 11/07/2018 au 12/07/2018\n",
    "MOTIF D'HOSPITALISATION\n",
    "Monsieur Dupont Jean Michel, de sexe masculin, âgée de 39 ans, née le 23/11/1978, a été\n",
    "hospitalisé du 11/08/2019 au 17/08/2019 pour attaque d'asthme. \n",
    "\n",
    "ANTÉCÉDENTS\n",
    "Antécédents médicaux :\n",
    "Premier épisode d'asthme en mai 2018.\"\"\"\n",
    "\n",
    "nlp = spacy.blank('fr')\n",
    "\n",
    "# Extraction d'entités nommées\n",
    "nlp.add_pipe(\n",
    "    'matcher',\n",
    "    config=dict(\n",
    "        terms=dict(respiratoire=[\n",
    "            'asthmatique',\n",
    "            'asthme',\n",
    "            'toux',\n",
    "        ])))\n",
    "\n",
    "\n",
    "nlp.add_pipe(\"normalizer\")\n",
    "nlp.add_pipe(\"reason\", config=dict(use_sections=True))\n",
    "\n",
    "doc = nlp(text)"
   ]
  },
  {
   "cell_type": "code",
   "execution_count": 2,
   "id": "352d3607",
   "metadata": {},
   "outputs": [
    {
     "data": {
      "text/plain": [
       "hospitalisé du 11/08/2019 au 17/08/2019 pour attaque d'asthme."
      ]
     },
     "execution_count": 2,
     "metadata": {},
     "output_type": "execute_result"
    }
   ],
   "source": [
    "reason = doc.spans['reasons'][0]\n",
    "reason"
   ]
  },
  {
   "cell_type": "code",
   "execution_count": 3,
   "id": "b3c68ffd",
   "metadata": {},
   "outputs": [
    {
     "data": {
      "text/plain": [
       "[asthme]"
      ]
     },
     "execution_count": 3,
     "metadata": {},
     "output_type": "execute_result"
    }
   ],
   "source": [
    "entities = reason._.ents_reason\n",
    "entities"
   ]
  },
  {
   "cell_type": "code",
   "execution_count": 4,
   "id": "38b777ad",
   "metadata": {},
   "outputs": [
    {
     "data": {
      "text/plain": [
       "'respiratoire'"
      ]
     },
     "execution_count": 4,
     "metadata": {},
     "output_type": "execute_result"
    }
   ],
   "source": [
    "entities[0].label_"
   ]
  },
  {
   "cell_type": "code",
   "execution_count": null,
   "id": "5f6f5f74",
   "metadata": {},
   "outputs": [],
   "source": []
  }
 ],
 "metadata": {
  "kernelspec": {
   "display_name": "Python 3 (ipykernel)",
   "language": "python",
   "name": "python3"
  },
  "language_info": {
   "codemirror_mode": {
    "name": "ipython",
    "version": 3
   },
   "file_extension": ".py",
   "mimetype": "text/x-python",
   "name": "python",
   "nbconvert_exporter": "python",
   "pygments_lexer": "ipython3",
   "version": "3.7.1"
  }
 },
 "nbformat": 4,
 "nbformat_minor": 5
}
