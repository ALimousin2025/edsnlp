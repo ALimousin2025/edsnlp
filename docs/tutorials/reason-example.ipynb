{
 "cells": [
  {
   "cell_type": "markdown",
   "id": "33a49e31",
   "metadata": {},
   "source": [
    "# Reason\n",
    "\n",
    "In this tutorial we will use the pipeline `reason` to :\n",
    "- identify spans that corresponds to the reason of hospitalisation\n",
    "- check if there are named entities overlapping with my span of 'reason of hospitalisation'\n",
    "- check for all named entities if they are tagged `is_reason`"
   ]
  },
  {
   "cell_type": "code",
   "execution_count": null,
   "id": "698cd1f7",
   "metadata": {},
   "outputs": [],
   "source": [
    "import spacy\n",
    "\n",
    "import edsnlp.components\n",
    "\n",
    "text = \"\"\"COMPTE RENDU D'HOSPITALISATION du 11/07/2018 au 12/07/2018\n",
    "MOTIF D'HOSPITALISATION\n",
    "Monsieur Dupont Jean Michel, de sexe masculin, âgée de 39 ans, née le 23/11/1978, a été\n",
    "hospitalisé du 11/08/2019 au 17/08/2019 pour attaque d'asthme. \n",
    "\n",
    "ANTÉCÉDENTS\n",
    "Antécédents médicaux :\n",
    "Premier épisode d'asthme en mai 2018.\"\"\"\n",
    "\n",
    "nlp = spacy.blank('fr')\n",
    "\n",
    "# Extraction d'entités nommées\n",
    "nlp.add_pipe(\n",
    "    'eds.matcher',\n",
    "    config=dict(\n",
    "        terms=dict(respiratoire=[\n",
    "            'asthmatique',\n",
    "            'asthme',\n",
    "            'toux',\n",
    "        ])))\n",
    "\n",
    "\n",
    "nlp.add_pipe(\"eds.normalizer\")\n",
    "nlp.add_pipe(\"eds.sections\")\n",
    "nlp.add_pipe(\"eds.reason\", config=dict(use_sections=True))\n",
    "\n",
    "doc = nlp(text)"
   ]
  },
  {
   "cell_type": "markdown",
   "id": "a73a282e-0aaa-4f90-8ae8-9972be7452ea",
   "metadata": {
    "tags": []
   },
   "source": [
    "The pipeline `reason` will add a key of spans called `reasons`. We check the first item in this list. "
   ]
  },
  {
   "cell_type": "code",
   "execution_count": 2,
   "id": "352d3607",
   "metadata": {},
   "outputs": [
    {
     "data": {
      "text/plain": [
       "hospitalisé du 11/08/2019 au 17/08/2019 pour attaque d'asthme."
      ]
     },
     "execution_count": 2,
     "metadata": {},
     "output_type": "execute_result"
    }
   ],
   "source": [
    "reason = doc.spans['reasons'][0]\n",
    "reason"
   ]
  },
  {
   "cell_type": "markdown",
   "id": "8c1dc973-1ff6-4f5e-96d4-ef0382b6aded",
   "metadata": {},
   "source": [
    "Naturally, all spans included in `reasons` have the attribute `<span>._.is_reason` ==True\n"
   ]
  },
  {
   "cell_type": "code",
   "execution_count": 3,
   "id": "caf90b65",
   "metadata": {},
   "outputs": [
    {
     "data": {
      "text/plain": [
       "True"
      ]
     },
     "execution_count": 3,
     "metadata": {},
     "output_type": "execute_result"
    }
   ],
   "source": [
    "reason._.is_reason"
   ]
  },
  {
   "cell_type": "code",
   "execution_count": 4,
   "id": "b3c68ffd",
   "metadata": {},
   "outputs": [
    {
     "name": "stdout",
     "output_type": "stream",
     "text": [
      "Entity: asthme -- Label: respiratoire -- is_reason: True\n"
     ]
    }
   ],
   "source": [
    "# We chek if the span include named entities, their labels and the attribute is_reason\n",
    "entities = reason._.ents_reason\n",
    "for e in entities:\n",
    "    print(\"Entity:\",e.text,\"-- Label:\", e.label_, \"-- is_reason:\", e._.is_reason)"
   ]
  },
  {
   "cell_type": "markdown",
   "id": "f18e9711-4444-4885-82fb-889490d7c727",
   "metadata": {},
   "source": [
    "We can verify that named entities that do not overlap with the spans of reason, have their attribute `is_reason`==False"
   ]
  },
  {
   "cell_type": "code",
   "execution_count": 5,
   "id": "d3d30193",
   "metadata": {},
   "outputs": [
    {
     "name": "stdout",
     "output_type": "stream",
     "text": [
      "42 asthme True\n",
      "54 asthme False\n"
     ]
    }
   ],
   "source": [
    "for e in doc.ents:\n",
    "    print(e.start , e, e._.is_reason)"
   ]
  },
  {
   "cell_type": "code",
   "execution_count": null,
   "id": "d19edacb",
   "metadata": {},
   "outputs": [],
   "source": []
  }
 ],
 "metadata": {
  "interpreter": {
   "hash": "b5666523f336a393745329c3e4562c2607af278433eab350a066d30a30e97323"
  },
  "kernelspec": {
   "display_name": "env_cse_210013",
   "language": "python",
   "name": "env_cse_210013"
  },
  "language_info": {
   "codemirror_mode": {
    "name": "ipython",
    "version": 3
   },
   "file_extension": ".py",
   "mimetype": "text/x-python",
   "name": "python",
   "nbconvert_exporter": "python",
   "pygments_lexer": "ipython3",
   "version": "3.7.10"
  }
 },
 "nbformat": 4,
 "nbformat_minor": 5
}
