{
 "cells": [
  {
   "cell_type": "markdown",
   "metadata": {},
   "source": [
    "# A first pipeline"
   ]
  },
  {
   "cell_type": "markdown",
   "metadata": {},
   "source": [
    "## Example text"
   ]
  },
  {
   "cell_type": "code",
   "execution_count": 1,
   "metadata": {},
   "outputs": [],
   "source": [
    "text = \"\"\"\\\n",
    "Motif :\n",
    "Le patient est admis le 29 août pour des difficultés respiratoires.\n",
    "\n",
    "Antécédents familiaux :\n",
    "Le père est asthmatique, sans traitement particulier.\n",
    "\n",
    "HISTOIRE DE LA MALADIE\n",
    "Le patient dit avoir de la toux depuis trois jours.\n",
    "Elle a empiré jusqu'à nécessiter un passage aux urgences.\n",
    "\n",
    "Conclusion\n",
    "Possible infection au coronavirus\n",
    "\"\"\""
   ]
  },
  {
   "cell_type": "markdown",
   "metadata": {},
   "source": [
    "## Defining the Spacy pipeline"
   ]
  },
  {
   "cell_type": "code",
   "execution_count": 2,
   "metadata": {
    "slideshow": {
     "slide_type": "slide"
    }
   },
   "outputs": [],
   "source": [
    "# Importing Spacy\n",
    "import spacy"
   ]
  },
  {
   "cell_type": "code",
   "execution_count": 5,
   "metadata": {},
   "outputs": [
    {
     "data": {
      "text/plain": [
       "<edsnlp.pipelines.rspeech.rspeech.ReportedSpeech at 0x7ff3c50615b0>"
      ]
     },
     "execution_count": 5,
     "metadata": {},
     "output_type": "execute_result"
    }
   ],
   "source": [
    "# Creates the Spacy instance\n",
    "nlp = spacy.blank('fr')\n",
    "\n",
    "# Normalisation of accents, case and other special characters\n",
    "nlp.add_pipe('normalizer')\n",
    "# Detecting end of lines\n",
    "nlp.add_pipe('sentences')\n",
    "\n",
    "# Extraction of named entities\n",
    "nlp.add_pipe(\n",
    "    'matcher',\n",
    "    config=dict(\n",
    "        terms=dict(respiratoire=[\n",
    "            'difficultes respiratoires',\n",
    "            'asthmatique',\n",
    "            'toux',\n",
    "        ]),\n",
    "        regex=dict(\n",
    "            covid=r'(?i)(?:infection\\sau\\s)?(covid[\\s\\-]?19|corona[\\s\\-]?virus)',\n",
    "            traitement=r'(?i)traitements?|medicaments?'),\n",
    "        attr='NORM',\n",
    "    ),\n",
    ")\n",
    "\n",
    "# Qualification of the entities\n",
    "nlp.add_pipe('negation')\n",
    "nlp.add_pipe('hypothesis')\n",
    "nlp.add_pipe('family')\n",
    "nlp.add_pipe('rspeech')"
   ]
  },
  {
   "cell_type": "markdown",
   "metadata": {},
   "source": [
    "## Using the pipeline"
   ]
  },
  {
   "cell_type": "code",
   "execution_count": 6,
   "metadata": {},
   "outputs": [],
   "source": [
    "doc = nlp(text)"
   ]
  },
  {
   "cell_type": "code",
   "execution_count": 7,
   "metadata": {},
   "outputs": [
    {
     "data": {
      "text/plain": [
       "Motif :\n",
       "Le patient est admis le 29 août pour des difficultés respiratoires.\n",
       "\n",
       "Antécédents familiaux :\n",
       "Le père est asthmatique, sans traitement particulier.\n",
       "\n",
       "HISTOIRE DE LA MALADIE\n",
       "Le patient dit avoir de la toux depuis trois jours. Elle a empiré jusqu'à nécessiter un passage aux urgences.\n",
       "\n",
       "Conclusion\n",
       "Possible infection au coronavirus"
      ]
     },
     "execution_count": 7,
     "metadata": {},
     "output_type": "execute_result"
    }
   ],
   "source": [
    "doc"
   ]
  },
  {
   "cell_type": "markdown",
   "metadata": {},
   "source": [
    "---\n",
    "\n",
    "Processing by EDS-NLP (and Spacy in general) are all non-destructive :"
   ]
  },
  {
   "cell_type": "code",
   "execution_count": 8,
   "metadata": {},
   "outputs": [
    {
     "data": {
      "text/plain": [
       "True"
      ]
     },
     "execution_count": 8,
     "metadata": {},
     "output_type": "execute_result"
    }
   ],
   "source": [
    "# Non-destruction\n",
    "doc.text == text"
   ]
  },
  {
   "cell_type": "markdown",
   "metadata": {},
   "source": [
    "For tasks such as normalization, EDS-NLP adds attributes to tokens, without information loss:"
   ]
  },
  {
   "cell_type": "code",
   "execution_count": 9,
   "metadata": {},
   "outputs": [
    {
     "name": "stdout",
     "output_type": "stream",
     "text": [
      "text            normalisation\n",
      "----            -------------\n",
      "Le              le\n",
      "patient         patient\n",
      "est             est\n",
      "admis           admis\n",
      "le              le\n",
      "29              29\n",
      "août            aout\n",
      "pour            pour\n",
      "des             des\n",
      "difficultés     difficultes\n",
      "respiratoires   respiratoires\n",
      ".               .\n"
     ]
    }
   ],
   "source": [
    "# Normalisation\n",
    "print(f\"{'text':<15}\", 'normalisation')\n",
    "print(f\"{'----':<15}\", '-------------')\n",
    "for token in doc[3:15]:\n",
    "    print(f\"{token.text:<15}\", token.norm_)"
   ]
  },
  {
   "cell_type": "markdown",
   "metadata": {},
   "source": [
    "The pipeline we defined above extracted named entities using the `matcher` component."
   ]
  },
  {
   "cell_type": "markdown",
   "metadata": {},
   "source": [
    "Since we inherit from Spacy, we can use their utilities :"
   ]
  },
  {
   "cell_type": "code",
   "execution_count": 10,
   "metadata": {},
   "outputs": [],
   "source": [
    "from spacy import displacy"
   ]
  },
  {
   "cell_type": "code",
   "execution_count": 11,
   "metadata": {},
   "outputs": [
    {
     "data": {
      "text/html": [
       "<span class=\"tex2jax_ignore\"><div class=\"entities\" style=\"line-height: 2.5; direction: ltr\">Motif :</br>Le patient est admis le 29 août pour des \n",
       "<mark class=\"entity\" style=\"background: green; padding: 0.45em 0.6em; margin: 0 0.25em; line-height: 1; border-radius: 0.35em;\">\n",
       "    difficultés respiratoires\n",
       "    <span style=\"font-size: 0.8em; font-weight: bold; line-height: 1; border-radius: 0.35em; vertical-align: middle; margin-left: 0.5rem\">respiratoire</span>\n",
       "</mark>\n",
       ".</br></br>Antécédents familiaux :</br>Le père est \n",
       "<mark class=\"entity\" style=\"background: green; padding: 0.45em 0.6em; margin: 0 0.25em; line-height: 1; border-radius: 0.35em;\">\n",
       "    asthmatique\n",
       "    <span style=\"font-size: 0.8em; font-weight: bold; line-height: 1; border-radius: 0.35em; vertical-align: middle; margin-left: 0.5rem\">respiratoire</span>\n",
       "</mark>\n",
       ", sans \n",
       "<mark class=\"entity\" style=\"background: #ddd; padding: 0.45em 0.6em; margin: 0 0.25em; line-height: 1; border-radius: 0.35em;\">\n",
       "    traitement\n",
       "    <span style=\"font-size: 0.8em; font-weight: bold; line-height: 1; border-radius: 0.35em; vertical-align: middle; margin-left: 0.5rem\">traitement</span>\n",
       "</mark>\n",
       " particulier.</br></br>HISTOIRE DE LA MALADIE</br>Le patient dit avoir de la \n",
       "<mark class=\"entity\" style=\"background: green; padding: 0.45em 0.6em; margin: 0 0.25em; line-height: 1; border-radius: 0.35em;\">\n",
       "    toux\n",
       "    <span style=\"font-size: 0.8em; font-weight: bold; line-height: 1; border-radius: 0.35em; vertical-align: middle; margin-left: 0.5rem\">respiratoire</span>\n",
       "</mark>\n",
       " depuis trois jours. Elle a empiré jusqu'à nécessiter un passage aux urgences.</br></br>Conclusion</br>Possible \n",
       "<mark class=\"entity\" style=\"background: orange; padding: 0.45em 0.6em; margin: 0 0.25em; line-height: 1; border-radius: 0.35em;\">\n",
       "    infection au coronavirus\n",
       "    <span style=\"font-size: 0.8em; font-weight: bold; line-height: 1; border-radius: 0.35em; vertical-align: middle; margin-left: 0.5rem\">covid</span>\n",
       "</mark>\n",
       "</br></div></span>"
      ],
      "text/plain": [
       "<IPython.core.display.HTML object>"
      ]
     },
     "metadata": {},
     "output_type": "display_data"
    }
   ],
   "source": [
    "displacy.render(\n",
    "    doc,\n",
    "    style='ent',\n",
    "    options={'colors': dict(respiratoire='green', covid='orange')},\n",
    ")"
   ]
  },
  {
   "cell_type": "markdown",
   "metadata": {},
   "source": [
    "Let's focus on the fist entity :"
   ]
  },
  {
   "cell_type": "code",
   "execution_count": 12,
   "metadata": {},
   "outputs": [],
   "source": [
    "entity = doc.ents[0]"
   ]
  },
  {
   "cell_type": "code",
   "execution_count": 13,
   "metadata": {},
   "outputs": [
    {
     "data": {
      "text/plain": [
       "difficultés respiratoires"
      ]
     },
     "execution_count": 13,
     "metadata": {},
     "output_type": "execute_result"
    }
   ],
   "source": [
    "entity"
   ]
  },
  {
   "cell_type": "code",
   "execution_count": 14,
   "metadata": {},
   "outputs": [
    {
     "data": {
      "text/plain": [
       "False"
      ]
     },
     "execution_count": 14,
     "metadata": {},
     "output_type": "execute_result"
    }
   ],
   "source": [
    "entity._.negated"
   ]
  },
  {
   "cell_type": "markdown",
   "metadata": {},
   "source": [
    "We can reformat the entities to an OMOP-like format:"
   ]
  },
  {
   "cell_type": "code",
   "execution_count": 15,
   "id": "cffa918f",
   "metadata": {},
   "outputs": [],
   "source": [
    "from edsnlp.connectors.omop import OmopConnector"
   ]
  },
  {
   "cell_type": "code",
   "execution_count": 16,
   "id": "c05a865e",
   "metadata": {},
   "outputs": [],
   "source": [
    "omop = OmopConnector(nlp)"
   ]
  },
  {
   "cell_type": "code",
   "execution_count": 17,
   "id": "e059e217",
   "metadata": {},
   "outputs": [],
   "source": [
    "note, note_nlp = omop.docs2omop([doc], extensions=['negation', 'hypothesis', 'family'])"
   ]
  },
  {
   "cell_type": "code",
   "execution_count": 22,
   "id": "b647bee9",
   "metadata": {},
   "outputs": [
    {
     "data": {
      "text/html": [
       "<div>\n",
       "<style scoped>\n",
       "    .dataframe tbody tr th:only-of-type {\n",
       "        vertical-align: middle;\n",
       "    }\n",
       "\n",
       "    .dataframe tbody tr th {\n",
       "        vertical-align: top;\n",
       "    }\n",
       "\n",
       "    .dataframe thead th {\n",
       "        text-align: right;\n",
       "    }\n",
       "</style>\n",
       "<table border=\"1\" class=\"dataframe\">\n",
       "  <thead>\n",
       "    <tr style=\"text-align: right;\">\n",
       "      <th></th>\n",
       "      <th>note_id</th>\n",
       "      <th>note_text</th>\n",
       "      <th>note_datetime</th>\n",
       "    </tr>\n",
       "  </thead>\n",
       "  <tbody>\n",
       "    <tr>\n",
       "      <th>0</th>\n",
       "      <td>0</td>\n",
       "      <td>Motif :\\nLe patient est admis le 29 août pour ...</td>\n",
       "      <td>None</td>\n",
       "    </tr>\n",
       "  </tbody>\n",
       "</table>\n",
       "</div>"
      ],
      "text/plain": [
       "   note_id                                          note_text note_datetime\n",
       "0        0  Motif :\\nLe patient est admis le 29 août pour ...          None"
      ]
     },
     "execution_count": 22,
     "metadata": {},
     "output_type": "execute_result"
    }
   ],
   "source": [
    "note"
   ]
  },
  {
   "cell_type": "code",
   "execution_count": 18,
   "id": "53dd3fc6",
   "metadata": {},
   "outputs": [
    {
     "data": {
      "text/html": [
       "<div>\n",
       "<style scoped>\n",
       "    .dataframe tbody tr th:only-of-type {\n",
       "        vertical-align: middle;\n",
       "    }\n",
       "\n",
       "    .dataframe tbody tr th {\n",
       "        vertical-align: top;\n",
       "    }\n",
       "\n",
       "    .dataframe thead th {\n",
       "        text-align: right;\n",
       "    }\n",
       "</style>\n",
       "<table border=\"1\" class=\"dataframe\">\n",
       "  <thead>\n",
       "    <tr style=\"text-align: right;\">\n",
       "      <th></th>\n",
       "      <th>note_nlp_id</th>\n",
       "      <th>note_id</th>\n",
       "      <th>start_char</th>\n",
       "      <th>end_char</th>\n",
       "      <th>note_nlp_source_value</th>\n",
       "      <th>lexical_variant</th>\n",
       "      <th>negated</th>\n",
       "      <th>hypothesis</th>\n",
       "      <th>family</th>\n",
       "    </tr>\n",
       "  </thead>\n",
       "  <tbody>\n",
       "    <tr>\n",
       "      <th>0</th>\n",
       "      <td>0</td>\n",
       "      <td>0</td>\n",
       "      <td>49</td>\n",
       "      <td>74</td>\n",
       "      <td>respiratoire</td>\n",
       "      <td>difficultés respiratoires</td>\n",
       "      <td>False</td>\n",
       "      <td>False</td>\n",
       "      <td>False</td>\n",
       "    </tr>\n",
       "    <tr>\n",
       "      <th>0</th>\n",
       "      <td>1</td>\n",
       "      <td>0</td>\n",
       "      <td>113</td>\n",
       "      <td>124</td>\n",
       "      <td>respiratoire</td>\n",
       "      <td>asthmatique</td>\n",
       "      <td>False</td>\n",
       "      <td>False</td>\n",
       "      <td>True</td>\n",
       "    </tr>\n",
       "    <tr>\n",
       "      <th>0</th>\n",
       "      <td>2</td>\n",
       "      <td>0</td>\n",
       "      <td>131</td>\n",
       "      <td>141</td>\n",
       "      <td>traitement</td>\n",
       "      <td>traitement</td>\n",
       "      <td>True</td>\n",
       "      <td>False</td>\n",
       "      <td>False</td>\n",
       "    </tr>\n",
       "    <tr>\n",
       "      <th>0</th>\n",
       "      <td>3</td>\n",
       "      <td>0</td>\n",
       "      <td>206</td>\n",
       "      <td>210</td>\n",
       "      <td>respiratoire</td>\n",
       "      <td>toux</td>\n",
       "      <td>False</td>\n",
       "      <td>False</td>\n",
       "      <td>False</td>\n",
       "    </tr>\n",
       "    <tr>\n",
       "      <th>0</th>\n",
       "      <td>4</td>\n",
       "      <td>0</td>\n",
       "      <td>310</td>\n",
       "      <td>334</td>\n",
       "      <td>covid</td>\n",
       "      <td>infection au coronavirus</td>\n",
       "      <td>False</td>\n",
       "      <td>True</td>\n",
       "      <td>False</td>\n",
       "    </tr>\n",
       "  </tbody>\n",
       "</table>\n",
       "</div>"
      ],
      "text/plain": [
       "   note_nlp_id  note_id  start_char  end_char note_nlp_source_value  \\\n",
       "0            0        0          49        74          respiratoire   \n",
       "0            1        0         113       124          respiratoire   \n",
       "0            2        0         131       141            traitement   \n",
       "0            3        0         206       210          respiratoire   \n",
       "0            4        0         310       334                 covid   \n",
       "\n",
       "             lexical_variant  negated  hypothesis  family  \n",
       "0  difficultés respiratoires    False       False   False  \n",
       "0                asthmatique    False       False    True  \n",
       "0                 traitement     True       False   False  \n",
       "0                       toux    False       False   False  \n",
       "0   infection au coronavirus    False        True   False  "
      ]
     },
     "execution_count": 18,
     "metadata": {},
     "output_type": "execute_result"
    }
   ],
   "source": [
    "note_nlp"
   ]
  }
 ],
 "metadata": {
  "interpreter": {
   "hash": "b2e68077a53aa096e44a5e04f4da9fecc0f4c64c40934f5f7dfb1342118018cb"
  },
  "jupytext": {
   "formats": "md,ipynb"
  },
  "kernelspec": {
   "display_name": "Python 3.9.5 64-bit ('.env': venv)",
   "name": "python3"
  },
  "language_info": {
   "codemirror_mode": {
    "name": "ipython",
    "version": 3
   },
   "file_extension": ".py",
   "mimetype": "text/x-python",
   "name": "python",
   "nbconvert_exporter": "python",
   "pygments_lexer": "ipython3",
   "version": "3.9.5"
  }
 },
 "nbformat": 4,
 "nbformat_minor": 5
}
